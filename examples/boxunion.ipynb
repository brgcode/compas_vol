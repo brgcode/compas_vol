{
 "cells": [
  {
   "cell_type": "code",
   "execution_count": 1,
   "metadata": {},
   "outputs": [],
   "source": [
    "import matplotlib.pyplot as plt\n",
    "import numpy as np\n",
    "import math\n",
    "import ipyvolume as ipv\n",
    "import random"
   ]
  },
  {
   "cell_type": "code",
   "execution_count": 2,
   "metadata": {},
   "outputs": [],
   "source": [
    "from compas.geometry import Point, Frame, Box\n",
    "from compas_vol.primitives import VolBox\n",
    "from compas_vol.combinations import Union"
   ]
  },
  {
   "cell_type": "code",
   "execution_count": 3,
   "metadata": {},
   "outputs": [],
   "source": [
    "bu = []\n",
    "for i in range(30):\n",
    "    p = Point(-15+random.random()*30,-15+random.random()*30,-15+random.random()*30)\n",
    "    box = Box(Frame(p, [random.random() for _ in range(3)], [random.random() for _ in range(3)]), 12, 9, 6)\n",
    "    vb = VolBox(box, 0)\n",
    "    bu.append(vb)\n",
    "u = Union(bu)"
   ]
  },
  {
   "cell_type": "code",
   "execution_count": 4,
   "metadata": {},
   "outputs": [],
   "source": [
    "x, y, z = np.ogrid[-15:15:100j, -15:15:100j, -15:15:100j]\n",
    "d2 = u.get_distance_numpy(x, y, z)"
   ]
  },
  {
   "cell_type": "code",
   "execution_count": 5,
   "metadata": {},
   "outputs": [
    {
     "data": {
      "application/vnd.jupyter.widget-view+json": {
       "model_id": "7261c541bc9b4b98925983b75e593984",
       "version_major": 2,
       "version_minor": 0
      },
      "text/plain": [
       "VBox(children=(VBox(children=(HBox(children=(Label(value='levels:'), FloatSlider(value=0.1, max=1.0, step=0.00…"
      ]
     },
     "metadata": {},
     "output_type": "display_data"
    }
   ],
   "source": [
    "ipv.figure(width=800,height=450)\n",
    "ipv.volshow(d2)\n",
    "ipv.style.use('minimal')\n",
    "ipv.show()"
   ]
  },
  {
   "cell_type": "code",
   "execution_count": 6,
   "metadata": {},
   "outputs": [
    {
     "data": {
      "application/vnd.jupyter.widget-view+json": {
       "model_id": "ace15976df624028ac67d9f1454e3e9d",
       "version_major": 2,
       "version_minor": 0
      },
      "text/plain": [
       "VBox(children=(Figure(camera=PerspectiveCamera(fov=46.0, position=(0.0, 0.0, 2.0), quaternion=(0.0, 0.0, 0.0, …"
      ]
     },
     "metadata": {},
     "output_type": "display_data"
    }
   ],
   "source": [
    "fig = ipv.figure(width=800, height=450)\n",
    "mesh = ipv.plot_isosurface(d2, 0., color='white')\n",
    "ipv.style.use('minimal')\n",
    "ipv.show()"
   ]
  },
  {
   "cell_type": "code",
   "execution_count": 7,
   "metadata": {},
   "outputs": [],
   "source": [
    "from compas_vol.modifications import Blur"
   ]
  },
  {
   "cell_type": "code",
   "execution_count": 8,
   "metadata": {},
   "outputs": [],
   "source": [
    "b = Blur(d2, 4.0)"
   ]
  },
  {
   "cell_type": "code",
   "execution_count": 9,
   "metadata": {},
   "outputs": [
    {
     "data": {
      "application/vnd.jupyter.widget-view+json": {
       "model_id": "49e39b72807d4fbea0d742e96a7bc5e9",
       "version_major": 2,
       "version_minor": 0
      },
      "text/plain": [
       "VBox(children=(Figure(camera=PerspectiveCamera(fov=46.0, position=(0.0, 0.0, 2.0), quaternion=(0.0, 0.0, 0.0, …"
      ]
     },
     "metadata": {},
     "output_type": "display_data"
    }
   ],
   "source": [
    "fig = ipv.figure(width=800, height=450)\n",
    "mesh = ipv.plot_isosurface(b.get_blurred(), 0., color='white')\n",
    "ipv.style.use('minimal')\n",
    "ipv.show()"
   ]
  },
  {
   "cell_type": "code",
   "execution_count": 14,
   "metadata": {},
   "outputs": [],
   "source": [
    "mesh.color = np.array([np.sin(mesh.x/3)+1, np.sin(mesh.y/3)+1, np.sin(mesh.z/3)+1]).T"
   ]
  },
  {
   "cell_type": "code",
   "execution_count": 11,
   "metadata": {},
   "outputs": [],
   "source": [
    "red = np.sin(mesh.x/3)*np.cos(mesh.y/3) + np.sin(mesh.y/3)*np.cos(mesh.z/3) + np.sin(mesh.z/3)*np.cos(mesh.x/3)\n",
    "grn = np.sin(mesh.x/4)*np.cos(mesh.y/4) + np.sin(mesh.y/4)*np.cos(mesh.z/4) + np.sin(mesh.z/4)*np.cos(mesh.x/4)\n",
    "blu = np.sin(mesh.x/5)*np.cos(mesh.y/5) + np.sin(mesh.y/5)*np.cos(mesh.z/5) + np.sin(mesh.z/3)*np.cos(mesh.x/5)"
   ]
  },
  {
   "cell_type": "code",
   "execution_count": 12,
   "metadata": {},
   "outputs": [],
   "source": [
    "red = (red+1.5)/3\n",
    "grn = (grn+1.5)/3\n",
    "blu = (blu+1.5)/3"
   ]
  },
  {
   "cell_type": "code",
   "execution_count": 13,
   "metadata": {},
   "outputs": [],
   "source": [
    "mesh.color = np.array([red,grn,blu]).T"
   ]
  },
  {
   "cell_type": "code",
   "execution_count": null,
   "metadata": {},
   "outputs": [],
   "source": []
  }
 ],
 "metadata": {
  "kernelspec": {
   "display_name": "Python 3",
   "language": "python",
   "name": "python3"
  },
  "language_info": {
   "codemirror_mode": {
    "name": "ipython",
    "version": 3
   },
   "file_extension": ".py",
   "mimetype": "text/x-python",
   "name": "python",
   "nbconvert_exporter": "python",
   "pygments_lexer": "ipython3",
   "version": "3.7.3"
  }
 },
 "nbformat": 4,
 "nbformat_minor": 2
}
